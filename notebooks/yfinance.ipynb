{
 "cells": [
  {
   "cell_type": "code",
   "execution_count": 43,
   "metadata": {},
   "outputs": [
    {
     "name": "stdout",
     "output_type": "stream",
     "text": [
      "['A', 'AAPL', 'ABBV', 'ABNB', 'ABT', 'ACGL', 'ACN', 'ADBE', 'ADI', 'ADM', 'ADP', 'ADSK', 'AEE', 'AEP', 'AES', 'AFL', 'AIG', 'AIZ', 'AJG', 'AKAM', 'ALB', 'ALGN', 'ALL', 'ALLE', 'AMAT', 'AMCR', 'AMD', 'AME', 'AMGN', 'AMP', 'AMT', 'AMZN', 'ANET', 'ANSS', 'AON', 'AOS', 'APA', 'APD', 'APH', 'APO', 'APTV', 'ARE', 'ATO', 'AVB', 'AVGO', 'AVY', 'AWK', 'AXON', 'AXP', 'AZO', 'BA', 'BAC', 'BALL', 'BAX', 'BBY', 'BDX', 'BEN', 'BF.B', 'BG', 'BIIB', 'BK', 'BKNG', 'BKR', 'BLDR', 'BLK', 'BMY', 'BR', 'BRK.B', 'BRO', 'BSX', 'BWA', 'BX', 'BXP', 'C', 'CAG', 'CAH', 'CARR', 'CAT', 'CB', 'CBOE', 'CBRE', 'CCI', 'CCL', 'CDNS', 'CDW', 'CE', 'CEG', 'CF', 'CFG', 'CHD', 'CHRW', 'CHTR', 'CI', 'CINF', 'CL', 'CLX', 'CMCSA', 'CME', 'CMG', 'CMI', 'CMS', 'CNC', 'CNP', 'COF', 'COO', 'COP', 'COR', 'COST', 'CPAY', 'CPB', 'CPRT', 'CPT', 'CRL', 'CRM', 'CRWD', 'CSCO', 'CSGP', 'CSX', 'CTAS', 'CTRA', 'CTSH', 'CTVA', 'CVS', 'CVX', 'CZR', 'D', 'DAL', 'DAY', 'DD', 'DE', 'DECK', 'DELL', 'DFS', 'DG', 'DGX', 'DHI', 'DHR', 'DIS', 'DLR', 'DLTR', 'DOC', 'DOV', 'DOW', 'DPZ', 'DRI', 'DTE', 'DUK', 'DVA', 'DVN', 'DXCM', 'EA', 'EBAY', 'ECL', 'ED', 'EFX', 'EG', 'EIX', 'EL', 'ELV', 'EMN', 'EMR', 'ENPH', 'EOG', 'EPAM', 'EQIX', 'EQR', 'EQT', 'ERIE', 'ES', 'ESS', 'ETN', 'ETR', 'EVRG', 'EW', 'EXC', 'EXPD', 'EXPE', 'EXR', 'F', 'FANG', 'FAST', 'FCX', 'FDS', 'FDX', 'FE', 'FFIV', 'FI', 'FICO', 'FIS', 'FITB', 'FMC', 'FOX', 'FOXA', 'FRT', 'FSLR', 'FTNT', 'FTV', 'GD', 'GDDY', 'GE', 'GEHC', 'GEN', 'GEV', 'GILD', 'GIS', 'GL', 'GLW', 'GM', 'GNRC', 'GOOG', 'GOOGL', 'GPC', 'GPN', 'GRMN', 'GS', 'GWW', 'HAL', 'HAS', 'HBAN', 'HCA', 'HD', 'HES', 'HIG', 'HII', 'HLT', 'HOLX', 'HON', 'HPE', 'HPQ', 'HRL', 'HSIC', 'HST', 'HSY', 'HUBB', 'HUM', 'HWM', 'IBM', 'ICE', 'IDXX', 'IEX', 'IFF', 'INCY', 'INTC', 'INTU', 'INVH', 'IP', 'IPG', 'IQV', 'IR', 'IRM', 'ISRG', 'IT', 'ITW', 'IVZ', 'J', 'JBHT', 'JBL', 'JCI', 'JKHY', 'JNJ', 'JNPR', 'JPM', 'K', 'KDP', 'KEY', 'KEYS', 'KHC', 'KIM', 'KKR', 'KLAC', 'KMB', 'KMI', 'KMX', 'KO', 'KR', 'KVUE', 'L', 'LDOS', 'LEN', 'LH', 'LHX', 'LII', 'LIN', 'LKQ', 'LLY', 'LMT', 'LNT', 'LOW', 'LRCX', 'LULU', 'LUV', 'LVS', 'LW', 'LYB', 'LYV', 'MA', 'MAA', 'MAR', 'MAS', 'MCD', 'MCHP', 'MCK', 'MCO', 'MDLZ', 'MDT', 'MET', 'META', 'MGM', 'MHK', 'MKC', 'MKTX', 'MLM', 'MMC', 'MMM', 'MNST', 'MO', 'MOH', 'MOS', 'MPC', 'MPWR', 'MRK', 'MRNA', 'MS', 'MSCI', 'MSFT', 'MSI', 'MTB', 'MTCH', 'MTD', 'MU', 'NCLH', 'NDAQ', 'NDSN', 'NEE', 'NEM', 'NFLX', 'NI', 'NKE', 'NOC', 'NOW', 'NRG', 'NSC', 'NTAP', 'NTRS', 'NUE', 'NVDA', 'NVR', 'NWS', 'NWSA', 'NXPI', 'O', 'ODFL', 'OKE', 'OMC', 'ON', 'ORCL', 'ORLY', 'OTIS', 'OXY', 'PANW', 'PARA', 'PAYC', 'PAYX', 'PCAR', 'PCG', 'PEG', 'PEP', 'PFE', 'PFG', 'PG', 'PGR', 'PH', 'PHM', 'PKG', 'PLD', 'PLTR', 'PM', 'PNC', 'PNR', 'PNW', 'PODD', 'POOL', 'PPG', 'PPL', 'PRU', 'PSA', 'PSX', 'PTC', 'PWR', 'PYPL', 'QCOM', 'RCL', 'REG', 'REGN', 'RF', 'RJF', 'RL', 'RMD', 'ROK', 'ROL', 'ROP', 'ROST', 'RSG', 'RTX', 'RVTY', 'SBAC', 'SBUX', 'SCHW', 'SHW', 'SJM', 'SLB', 'SMCI', 'SNA', 'SNPS', 'SO', 'SOLV', 'SPG', 'SPGI', 'SRE', 'STE', 'STLD', 'STT', 'STX', 'STZ', 'SW', 'SWK', 'SWKS', 'SYF', 'SYK', 'SYY', 'T', 'TAP', 'TDG', 'TDY', 'TECH', 'TEL', 'TER', 'TFC', 'TFX', 'TGT', 'TJX', 'TMO', 'TMUS', 'TPL', 'TPR', 'TRGP', 'TRMB', 'TROW', 'TRV', 'TSCO', 'TSLA', 'TSN', 'TT', 'TTWO', 'TXN', 'TXT', 'TYL', 'UAL', 'UBER', 'UDR', 'UHS', 'ULTA', 'UNH', 'UNP', 'UPS', 'URI', 'USB', 'V', 'VICI', 'VLO', 'VLTO', 'VMC', 'VRSK', 'VRSN', 'VRTX', 'VST', 'VTR', 'VTRS', 'VZ', 'WAB', 'WAT', 'WBA', 'WBD', 'WDAY', 'WDC', 'WEC', 'WELL', 'WFC', 'WM', 'WMB', 'WMT', 'WRB', 'WST', 'WTW', 'WY', 'WYNN', 'XEL', 'XOM', 'XYL', 'YUM', 'ZBH', 'ZBRA', 'ZTS']\n"
     ]
    }
   ],
   "source": [
    "import requests\n",
    "import pandas as pd\n",
    "from bs4 import BeautifulSoup\n",
    "\n",
    "def get_sp500_tickers():\n",
    "    url = 'https://en.wikipedia.org/wiki/List_of_S%26P_500_companies'\n",
    "    response = requests.get(url)\n",
    "    soup = BeautifulSoup(response.text, 'html.parser')\n",
    "    table = soup.find('table', {'id': 'constituents'})\n",
    "    tickers = []\n",
    "    for row in table.find_all('tr')[1:]:\n",
    "        ticker = row.find_all('td')[0].text.strip()\n",
    "        tickers.append(ticker)\n",
    "    return sorted(tickers)\n",
    "\n",
    "sp500_tickers = get_sp500_tickers()\n",
    "print(sp500_tickers)"
   ]
  },
  {
   "cell_type": "code",
   "execution_count": 44,
   "metadata": {},
   "outputs": [
    {
     "name": "stdout",
     "output_type": "stream",
     "text": [
      "Date\n",
      "2024-11-14 00:00:00-05:00    227.969360\n",
      "2024-11-15 00:00:00-05:00    224.752884\n",
      "2024-11-18 00:00:00-05:00    227.769577\n",
      "2024-11-19 00:00:00-05:00    228.029282\n",
      "2024-11-20 00:00:00-05:00    228.748489\n",
      "                                ...    \n",
      "2025-02-07 00:00:00-05:00    227.380005\n",
      "2025-02-10 00:00:00-05:00    227.649994\n",
      "2025-02-11 00:00:00-05:00    232.619995\n",
      "2025-02-12 00:00:00-05:00    236.869995\n",
      "2025-02-13 00:00:00-05:00    241.529999\n",
      "Name: close, Length: 61, dtype: float64\n"
     ]
    }
   ],
   "source": [
    "import yfinance as yf\n",
    "\n",
    "\n",
    "def get_stock_data(ticker, period='1mo'):\n",
    "    \"\"\"\n",
    "    Fetches the closing stock data for a given ticker symbol and period.\n",
    "\n",
    "    Parameters:\n",
    "    ticker (str): The ticker symbol of the stock.\n",
    "    period (str): The period over which to fetch the data. Default is '1mo'.\n",
    "\n",
    "    Returns:\n",
    "    pandas.DataFrame: A dataframe containing the closing stock data.\n",
    "    \"\"\"\n",
    "    stock = yf.Ticker(ticker)\n",
    "    hist = stock.history(period=period).rename(columns=lambda x: x.lower())\n",
    "    return hist\n",
    "\n",
    "\n",
    "# Example usage\n",
    "closing_data = get_stock_data('AAPL', '3mo')['close']\n",
    "print(closing_data)"
   ]
  },
  {
   "cell_type": "code",
   "execution_count": null,
   "metadata": {},
   "outputs": [],
   "source": []
  },
  {
   "cell_type": "code",
   "execution_count": 45,
   "metadata": {},
   "outputs": [
    {
     "name": "stdout",
     "output_type": "stream",
     "text": [
      "2026-01-28 16:00:00-05:00\n"
     ]
    }
   ],
   "source": [
    "def get_next_earnings_date(ticker):\n",
    "    \"\"\"\n",
    "    Fetches the next earnings report date for a given ticker symbol.\n",
    "\n",
    "    Parameters:\n",
    "    ticker (str): The ticker symbol of the stock.\n",
    "\n",
    "    Returns:\n",
    "    str: The next earnings report date.\n",
    "    \"\"\"\n",
    "    stock = yf.Ticker(ticker)\n",
    "    earnings_date = stock.earnings_dates.index[0]\n",
    "    return earnings_date\n",
    "\n",
    "# Example usage\n",
    "next_earnings_date = get_next_earnings_date('AAPL')\n",
    "print(next_earnings_date)"
   ]
  },
  {
   "cell_type": "code",
   "execution_count": 90,
   "metadata": {},
   "outputs": [
    {
     "name": "stdout",
     "output_type": "stream",
     "text": [
      "    Ticker  Price Change (%)\n",
      "0      WST        -41.666926\n",
      "1      FMC        -34.187881\n",
      "2     SWKS        -25.439389\n",
      "3     MRNA        -19.025871\n",
      "4      HII        -18.473075\n",
      "..     ...               ...\n",
      "493   EXPE         18.865166\n",
      "494   UBER         20.104716\n",
      "495   INTC         24.189392\n",
      "496   PLTR         42.938546\n",
      "497   SMCI         48.246838\n",
      "\n",
      "[498 rows x 2 columns]\n"
     ]
    }
   ],
   "source": [
    "def get_sorted_price_changes(tickers, period='1mo', ascending=False):\n",
    "    \"\"\"\n",
    "    Returns a sorted pandas DataFrame containing the sorted change percentage for a given list of stocks over a given period.\n",
    "\n",
    "    Parameters:\n",
    "    tickers (list): List of ticker symbols.\n",
    "    period (str): The period over which to fetch the data. Default is '1mo'.\n",
    "\n",
    "    Returns:\n",
    "    pandas.DataFrame: A sorted dataframe containing the ticker symbols and their corresponding price change percentages.\n",
    "    \"\"\"\n",
    "    price_changes = []\n",
    "\n",
    "    for ticker in tickers:\n",
    "        try:\n",
    "            closing_data = get_stock_data(ticker, period)['close']\n",
    "            if not closing_data.empty:\n",
    "                price_change = ((closing_data.iloc[-1] - closing_data.iloc[0]) / closing_data.iloc[0]) * 100\n",
    "                price_changes.append({'Ticker': ticker, 'Price Change (%)': price_change})\n",
    "            else:\n",
    "                tickers.remove(ticker)\n",
    "                print(f\"No data available for {ticker}\")\n",
    "        except Exception as e:\n",
    "            tickers.remove(ticker)\n",
    "            print(f\"Error fetching data for {ticker}: {e}\")\n",
    "\n",
    "    price_changes_df = pd.DataFrame(price_changes)\n",
    "    sorted_price_changes_df = price_changes_df.sort_values(by='Price Change (%)', ascending=ascending).reset_index(drop=True)\n",
    "    \n",
    "    return sorted_price_changes_df\n",
    "\n",
    "PERIOD = '2wk'\n",
    "# Example usage\n",
    "sorted_price_changes = get_sorted_price_changes(sp500_tickers, PERIOD, True)\n",
    "print(sorted_price_changes)"
   ]
  },
  {
   "cell_type": "code",
   "execution_count": 91,
   "metadata": {},
   "outputs": [
    {
     "name": "stdout",
     "output_type": "stream",
     "text": [
      "   Ticker  Price Change (%)\n",
      "0     WST        -41.666926\n",
      "1     FMC        -34.187881\n",
      "2    SWKS        -25.439389\n",
      "3    MRNA        -19.025871\n",
      "4     HII        -18.473075\n",
      "..    ...               ...\n",
      "82    DFS         -5.460240\n",
      "83    PWR         -5.445207\n",
      "84    MOS         -5.234848\n",
      "85    WBA         -5.155640\n",
      "86    BMY         -5.055131\n",
      "\n",
      "[87 rows x 2 columns]\n"
     ]
    }
   ],
   "source": [
    "# take the dataframe and obtain the subset of tickers within a given change \n",
    "\n",
    "subset_df = sorted_price_changes[(sorted_price_changes['Price Change (%)'] <= -5)]\n",
    "\n",
    "print(subset_df)\n"
   ]
  },
  {
   "cell_type": "code",
   "execution_count": null,
   "metadata": {},
   "outputs": [
    {
     "name": "stdout",
     "output_type": "stream",
     "text": [
      "Oversold Stock DAL\n",
      "[None, None, None, None, None, None, None, None, None, None]\n"
     ]
    }
   ],
   "source": [
    "from stock_indicators import indicators, Quote\n",
    "\n",
    "oversold_ticker = subset_df['Ticker'].iloc[0]\n",
    "print(f'Oversold Stock {oversold_ticker}')\n",
    "data = get_stock_data(oversold_ticker, PERIOD)\n",
    "# atr = ATR(data.high, data.low, data.close, timeperiod=2).dropna()\n",
    "\n",
    "# Read and print the stock tickers that make up S&P500\n",
    "\n",
    "# print(tickers.head())\n",
    "quotes_list = [\n",
    "    Quote(d,o,h,l,c,v) \n",
    "    for d,o,h,l,c,v \n",
    "    in zip(data.index, data['open'], data['high'], data['low'], data['close'], data['volume'])\n",
    "]\n",
    "\n",
    "supertrend = indicators.get_super_trend(quotes_list, 10, 3)\n",
    "uppertrend = []\n",
    "lowertrend = []\n",
    "for r in supertrend:\n",
    "    lowertrend.append(r.upper_band)\n",
    "    uppertrend.append(r.lower_band)\n",
    "    \n",
    "print(lowertrend)"
   ]
  },
  {
   "cell_type": "code",
   "execution_count": 87,
   "metadata": {},
   "outputs": [
    {
     "name": "stdout",
     "output_type": "stream",
     "text": [
      "  period  strongBuy  buy  hold  sell  strongSell     quant\n",
      "0     0m          6   16     0     0           1  4.130435\n",
      "1    -1m          6   16     0     0           1  4.130435\n",
      "2    -2m          6   16     0     0           1  4.130435\n",
      "3    -3m          6   16     0     0           1  4.130435\n"
     ]
    }
   ],
   "source": [
    "def get_analyst_ratings(ticker):\n",
    "    \"\"\"\n",
    "    Fetches the analysts' ratings and price targets for a given ticker symbol.\n",
    "\n",
    "    Parameters:\n",
    "    ticker (str): The ticker symbol of the stock.\n",
    "\n",
    "    Returns:\n",
    "    pandas.DataFrame: A dataframe containing the analysts' ratings and price targets.\n",
    "    \"\"\"\n",
    "\n",
    "    rating = {\n",
    "        'strongBuy': 5,\n",
    "        'buy': 4,\n",
    "        'hold': 3,\n",
    "        'sell': 2,\n",
    "        'strongSell': 1\n",
    "    }\n",
    "    \n",
    "    total = 0\n",
    "    stock = yf.Ticker(ticker)\n",
    "    analyst_info = stock.recommendations\n",
    "    analyst_info['quant'] = analyst_info.apply(lambda row: sum([row[r]*rating[r] for r in rating])/row[rating.keys()].sum(), axis=1)\n",
    "    return analyst_info\n",
    "\n",
    "\n",
    "# Example usage\n",
    "ticker = oversold_ticker\n",
    "analyst_ratings = get_analyst_ratings(ticker)\n",
    "\n",
    "print(analyst_ratings)"
   ]
  },
  {
   "cell_type": "code",
   "execution_count": 88,
   "metadata": {},
   "outputs": [
    {
     "name": "stdout",
     "output_type": "stream",
     "text": [
      "{'current': 64.06, 'high': 100.0, 'low': 44.0, 'mean': 79.92864, 'median': 80.0}\n"
     ]
    }
   ],
   "source": [
    "def get_price_targets(ticker):\n",
    "    \"\"\"\n",
    "    Fetches the price targets for a given ticker symbol.\n",
    "\n",
    "    Parameters:\n",
    "    ticker (str): The ticker symbol of the stock.\n",
    "\n",
    "    Returns:\n",
    "    pandas.DataFrame: A dataframe containing the price targets.\n",
    "    \"\"\"\n",
    "    stock = yf.Ticker(ticker)\n",
    "    price_targets = stock.analyst_price_targets\n",
    "    return price_targets\n",
    "\n",
    "# Example usage\n",
    "ticker = oversold_ticker\n",
    "price_targets = get_price_targets(ticker)\n",
    "print(price_targets)"
   ]
  },
  {
   "cell_type": "code",
   "execution_count": 93,
   "metadata": {},
   "outputs": [
    {
     "name": "stdout",
     "output_type": "stream",
     "text": [
      "The PE ratio of DAL is 12.018762\n"
     ]
    }
   ],
   "source": [
    "def get_pe_ratio(ticker):\n",
    "    \"\"\"\n",
    "    Fetches the PE ratio for a given ticker symbol.\n",
    "\n",
    "    Parameters:\n",
    "    ticker (str): The ticker symbol of the stock.\n",
    "\n",
    "    Returns:\n",
    "    float: The PE ratio of the stock.\n",
    "    \"\"\"\n",
    "    stock = yf.Ticker(ticker)\n",
    "    pe_ratio = stock.info.get('trailingPE', None)\n",
    "    return pe_ratio\n",
    "\n",
    "# Example usage\n",
    "ticker = oversold_ticker\n",
    "pe_ratio = get_pe_ratio(ticker)\n",
    "print(f\"The PE ratio of {ticker} is {pe_ratio}\")"
   ]
  }
 ],
 "metadata": {
  "kernelspec": {
   "display_name": "venv",
   "language": "python",
   "name": "python3"
  },
  "language_info": {
   "codemirror_mode": {
    "name": "ipython",
    "version": 3
   },
   "file_extension": ".py",
   "mimetype": "text/x-python",
   "name": "python",
   "nbconvert_exporter": "python",
   "pygments_lexer": "ipython3",
   "version": "3.12.1"
  }
 },
 "nbformat": 4,
 "nbformat_minor": 2
}
